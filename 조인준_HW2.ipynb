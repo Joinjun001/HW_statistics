{
 "cells": [
  {
   "cell_type": "markdown",
   "id": "a2f1544a-8312-4016-8738-2758fc9b3663",
   "metadata": {},
   "source": [
    "HW2\n",
    "\n",
    "- 동전의 앞면과 뒷면이 나올 확률은 각각 0.5이다.\n",
    "- 이 동전을 1000 번 던져서, 앞면이 나올 확률을 선 그래프로 완성하시오.\n",
    "- 선 그래프는 x 축은 0부터 1000까지, y축은 0부터 1까지로 나타나야 합니다.\n",
    "- y가 0.5인 x축에 평행한 선을 빨간색으로 함께 나타내야 합니다."
   ]
  },
  {
   "cell_type": "code",
   "execution_count": 16,
   "id": "f9e71302-0441-497e-b429-5745afd65288",
   "metadata": {},
   "outputs": [
    {
     "data": {
      "text/plain": [
       "array([1, 0, 1, 1, 0, 1, 1, 0, 0, 0, 1, 1, 0, 1, 0, 0, 1, 0, 0, 1, 0, 1,\n",
       "       0, 0, 1, 0, 1, 0, 0, 0, 1, 1, 1, 1, 0, 1, 1, 1, 0, 0, 1, 1, 1, 1,\n",
       "       0, 0, 1, 0, 0, 0])"
      ]
     },
     "execution_count": 16,
     "metadata": {},
     "output_type": "execute_result"
    }
   ],
   "source": [
    "import numpy as np\n",
    "import matplotlib.pyplot as plt \n",
    "\n",
    "# 시행횟수 : 1000\n",
    "# np.arange() < 시행횟수 구할때 사용\n",
    "# ax.axhline() < 그래프에 선 그릴때 사용\n",
    "\n",
    "n = 1000\n",
    "result = np.random.choice([0,1],replace=True,size=n)\n",
    "result[:50]"
   ]
  },
  {
   "cell_type": "code",
   "execution_count": 18,
   "id": "ca519af2-4c4a-4ae7-97b9-acd4b1cef1da",
   "metadata": {},
   "outputs": [
    {
     "data": {
      "text/plain": [
       "array([481, 481, 482, 482, 483, 483, 483, 484, 485, 485, 485, 486, 486,\n",
       "       487, 487, 488, 489, 490, 491, 491, 491, 492, 492, 493, 494, 494,\n",
       "       494, 494, 494, 494, 494, 495, 496, 497, 498, 498, 499, 500, 500,\n",
       "       501, 502, 502, 503, 503, 503, 503, 503, 504, 504])"
      ]
     },
     "execution_count": 18,
     "metadata": {},
     "output_type": "execute_result"
    }
   ],
   "source": [
    "# 1이 나온 횟수를 리스트로 저장, 그걸 시행횟수로 나눈게 확률\n",
    "freq = np.cumsum(result)\n",
    "freq[950:999]"
   ]
  },
  {
   "cell_type": "code",
   "execution_count": 20,
   "id": "fa184009-03c3-4bb8-b314-467f4a632f1e",
   "metadata": {},
   "outputs": [
    {
     "name": "stdout",
     "output_type": "stream",
     "text": [
      "[0.50578339 0.5052521  0.50577125 0.50524109 0.50575916 0.50523013\n",
      " 0.50470219 0.50521921 0.50573514 0.50520833 0.50468262 0.50519751\n",
      " 0.5046729  0.50518672 0.50466321 0.50517598 0.50568769 0.50619835\n",
      " 0.50670795 0.50618557 0.50566426 0.50617284 0.50565262 0.50616016\n",
      " 0.50666667 0.50614754 0.50562948 0.50511247 0.50459653 0.50408163\n",
      " 0.50356779 0.50407332 0.50457782 0.5050813  0.50558376 0.50507099\n",
      " 0.50557244 0.50607287 0.50556117 0.50606061 0.50655903 0.50604839\n",
      " 0.50654582 0.50603622 0.50552764 0.50502008 0.50451354 0.50501002\n",
      " 0.5045045 ]\n"
     ]
    }
   ],
   "source": [
    "trial = np.arange(1, n+1)\n",
    "prob = freq/trial\n",
    "print(prob[950:999])"
   ]
  },
  {
   "cell_type": "code",
   "execution_count": 22,
   "id": "95a2af8a-b399-4b02-a6a7-ae088529079c",
   "metadata": {},
   "outputs": [
    {
     "data": {
      "text/plain": [
       "<Figure size 640x480 with 0 Axes>"
      ]
     },
     "metadata": {},
     "output_type": "display_data"
    },
    {
     "data": {
      "image/png": "[encoded data removed]",
      "text/plain": [
       "<Figure size 640x480 with 1 Axes>"
      ]
     },
     "metadata": {},
     "output_type": "display_data"
    }
   ],
   "source": [
    "# 그래프 그리기, y=0.5 선 그리기 \n",
    "plt.figure()\n",
    "fig, ax1 = plt.subplots()\n",
    "ax1.plot(prob,marker='o',markersize=5,color='skyblue')\n",
    "plt.ylim(0,1)\n",
    "plt.axhline(y=0.5,color='red',linewidth=1)\n",
    "plt.title(\"Prob of Coin Head in 1000 trial\")\n",
    "plt.show()"
   ]
  },
  {
   "cell_type": "code",
   "execution_count": null,
   "id": "87fc1e74-d79e-4ea9-a18e-30e68d77383e",
   "metadata": {},
   "outputs": [],
   "source": []
  }
 ],
 "metadata": {
  "kernelspec": {
   "display_name": "Python [conda env:base] *",
   "language": "python",
   "name": "conda-base-py"
  },
  "language_info": {
   "codemirror_mode": {
    "name": "ipython",
    "version": 3
   },
   "file_extension": ".py",
   "mimetype": "text/x-python",
   "name": "python",
   "nbconvert_exporter": "python",
   "pygments_lexer": "ipython3",
   "version": "3.12.7"
  }
 },
 "nbformat": 4,
 "nbformat_minor": 5
}

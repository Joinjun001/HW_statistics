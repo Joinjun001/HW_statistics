{
 "cells": [
  {
   "cell_type": "markdown",
   "id": "d311f3af-c413-4723-a79e-a70e83dcf108",
   "metadata": {},
   "source": [
    "HW6 \n",
    "\n",
    "• diamond data 를 기준으로 color 에 대한 price 의 차이가 있는 지를 유의수준 5%에서 분산분석하시오."
   ]
  },
  {
   "cell_type": "code",
   "execution_count": null,
   "id": "8265819e-5d14-404e-9640-62a02bc31c83",
   "metadata": {},
   "outputs": [],
   "source": []
  },
  {
   "cell_type": "code",
   "execution_count": null,
   "id": "8dec6ce3-6fc3-4371-8adf-b6b2a9ac98c7",
   "metadata": {},
   "outputs": [],
   "source": []
  },
  {
   "cell_type": "code",
   "execution_count": null,
   "id": "c471f89d-1bc5-4a87-a8c5-99cebc534d99",
   "metadata": {},
   "outputs": [],
   "source": []
  },
  {
   "cell_type": "code",
   "execution_count": null,
   "id": "712afd48-9254-4455-ac9b-a1150ba4a4b6",
   "metadata": {},
   "outputs": [],
   "source": []
  },
  {
   "cell_type": "code",
   "execution_count": null,
   "id": "bd1c27da-f79e-412f-bac8-7a57981c0e03",
   "metadata": {},
   "outputs": [],
   "source": []
  },
  {
   "cell_type": "code",
   "execution_count": null,
   "id": "2914b0c4-20d6-482b-8aeb-59f816df8e0f",
   "metadata": {},
   "outputs": [],
   "source": []
  },
  {
   "cell_type": "code",
   "execution_count": null,
   "id": "36914e4a-8972-4005-8762-1f710a214298",
   "metadata": {},
   "outputs": [],
   "source": []
  },
  {
   "cell_type": "code",
   "execution_count": null,
   "id": "80ee8571-d9a4-477c-9b95-81b24bb77d7d",
   "metadata": {},
   "outputs": [],
   "source": []
  },
  {
   "cell_type": "code",
   "execution_count": null,
   "id": "37dd5d96-63d0-4010-accb-8f8e32928961",
   "metadata": {},
   "outputs": [],
   "source": []
  },
  {
   "cell_type": "markdown",
   "id": "ea09f82c-7bd2-4286-9238-a4eb1a9f7bc1",
   "metadata": {},
   "source": [
    "HW7 (상관관계가 높은 변수 고를때 감점당함) \n",
    "\n",
    "- Boston housing dataset 에서 TAX와 상관관계가 높은 변수 3개를 고르시오.\n",
    "- 위에서 고른 3개를 설명변수로 두고 평균 반응식을 구하시오."
   ]
  },
  {
   "cell_type": "code",
   "execution_count": null,
   "id": "acba1c84-9f79-4c1f-80f3-96c1573f6811",
   "metadata": {},
   "outputs": [],
   "source": []
  },
  {
   "cell_type": "code",
   "execution_count": null,
   "id": "0d1de489-17a4-4d85-b165-f8f39d0e4c35",
   "metadata": {},
   "outputs": [],
   "source": []
  },
  {
   "cell_type": "code",
   "execution_count": null,
   "id": "941154f9-3ebd-4bd9-a72b-24ff26d4bd2e",
   "metadata": {},
   "outputs": [],
   "source": []
  },
  {
   "cell_type": "code",
   "execution_count": null,
   "id": "d2c4fe7f-6ebf-476a-81f7-f85537ae608d",
   "metadata": {},
   "outputs": [],
   "source": []
  },
  {
   "cell_type": "code",
   "execution_count": null,
   "id": "e91e972e-2c42-4a0c-8376-f40999922763",
   "metadata": {},
   "outputs": [],
   "source": []
  },
  {
   "cell_type": "code",
   "execution_count": null,
   "id": "d956dfb3-84cf-495c-84a2-8057185f4053",
   "metadata": {},
   "outputs": [],
   "source": []
  },
  {
   "cell_type": "code",
   "execution_count": null,
   "id": "1f32677b-d2e8-46a7-9067-5e2c23fed444",
   "metadata": {},
   "outputs": [],
   "source": []
  },
  {
   "cell_type": "code",
   "execution_count": null,
   "id": "e7899e86-3580-40df-94f6-bd449a883cf1",
   "metadata": {},
   "outputs": [],
   "source": []
  },
  {
   "cell_type": "markdown",
   "id": "85c09983-1af6-48b4-8b50-56687803ffb0",
   "metadata": {},
   "source": [
    "HW8 \n",
    "\n",
    "- 강의 자료 마지막 페이지에 있는 흡연과 폐암이 서로 연관성이 있는 지를 유의 수준 5%에서 검정하시오.\n",
    "- 파이썬을 통해 그 검정 결과를 출력하고, 나타난 결과를 문장으로 설명하시오."
   ]
  },
  {
   "cell_type": "code",
   "execution_count": null,
   "id": "1b08fc57-8325-4c78-a1b2-cadcd412d3a0",
   "metadata": {},
   "outputs": [],
   "source": []
  },
  {
   "cell_type": "code",
   "execution_count": null,
   "id": "25c9e1ec-6c46-4d26-91ef-6e1b99427d94",
   "metadata": {},
   "outputs": [],
   "source": []
  },
  {
   "cell_type": "code",
   "execution_count": null,
   "id": "9f282736-cb12-430e-933f-47cb2f0742a6",
   "metadata": {},
   "outputs": [],
   "source": []
  },
  {
   "cell_type": "code",
   "execution_count": null,
   "id": "999f21e9-d006-4621-bf9f-481698bcdd2e",
   "metadata": {},
   "outputs": [],
   "source": []
  },
  {
   "cell_type": "code",
   "execution_count": null,
   "id": "30920c3e-0e19-4425-b60d-66cd1a464a0d",
   "metadata": {},
   "outputs": [],
   "source": []
  },
  {
   "cell_type": "code",
   "execution_count": null,
   "id": "6c2e6f8c-846d-4399-a886-903d596616b2",
   "metadata": {},
   "outputs": [],
   "source": []
  },
  {
   "cell_type": "code",
   "execution_count": null,
   "id": "59aa67fd-6e11-4f57-af13-e0058a56e25a",
   "metadata": {},
   "outputs": [],
   "source": []
  }
 ],
 "metadata": {
  "kernelspec": {
   "display_name": "Python [conda env:base] *",
   "language": "python",
   "name": "conda-base-py"
  },
  "language_info": {
   "codemirror_mode": {
    "name": "ipython",
    "version": 3
   },
   "file_extension": ".py",
   "mimetype": "text/x-python",
   "name": "python",
   "nbconvert_exporter": "python",
   "pygments_lexer": "ipython3",
   "version": "3.12.7"
  }
 },
 "nbformat": 4,
 "nbformat_minor": 5
}

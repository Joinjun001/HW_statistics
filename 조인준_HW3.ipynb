{
 "cells": [
  {
   "cell_type": "markdown",
   "id": "962e828d-e343-41e1-8653-3a2fd79bb6a4",
   "metadata": {},
   "source": [
    "can_data 를 이용하여 아래 사항을 구하시오.\n",
    "\n",
    "(1) 분산의 점추정량을 구하시오.\n",
    "\n",
    "(2) 분산에 대한 95% 신뢰구간을 구하시오.  \n",
    "\n"
   ]
  },
  {
   "cell_type": "code",
   "execution_count": 14,
   "id": "ae777a1c-df8c-4e68-9a87-e606a1c73b72",
   "metadata": {},
   "outputs": [],
   "source": [
    "import platform\n",
    "import numpy as np\n",
    "import pandas as pd \n",
    "import matplotlib.pyplot as plt\n",
    "from scipy.stats import chi2\n",
    "from scipy.stats import norm\n",
    "\n",
    "# OS 판별\n",
    "system_name = platform.system()\n",
    "\n",
    "# 한글 폰트 설정\n",
    "if system_name == 'Darwin':  # macOS\n",
    "    plt.rcParams['font.family'] = 'AppleGothic'\n",
    "elif system_name == 'Windows':\n",
    "    plt.rcParams['font.family'] = 'Malgun Gothic'\n",
    "else:\n",
    "    # Linux 등 기타 OS는 여기서 지정\n",
    "    plt.rcParams['font.family'] = 'NanumGothic'  # 설치되어 있어야 함\n",
    "\n",
    "# 음수 부호 깨짐 방지\n",
    "plt.rcParams['axes.unicode_minus'] = False"
   ]
  },
  {
   "cell_type": "code",
   "execution_count": 16,
   "id": "4e412448-a8fc-4c8f-bc69-ff1af013ce70",
   "metadata": {},
   "outputs": [],
   "source": [
    "# 표본 데이터 \n",
    "can_data = np.array([\n",
    "    101.8, 101.5, 102.6, 101, 101.8, 96.8, 102.4, 100,\n",
    "    98.8, 98.1, 98.8, 98, 99.4, 95.5, 100.1, 100.5, 97.4, 100.2,\n",
    "    101.4, 98.7, 101.4, 99.4, 101.7, 99, 99.7, 98.8, 99.5, 100,\n",
    "    99.7, 100.9, 99.7, 99, 98.8, 99.7, 100.9, 99.9, 97.5,\n",
    "    101.5, 98.2, 99.2, 98.6, 101.4, 102.1, 102.9, 100.8,\n",
    "    99.4, 103.7, 100.3, 100.2, 101.1, 101.8, 100, 101.2,\n",
    "    100.5, 101.2, 101.6, 99.9, 100.5, 100.4, 98.1, 100.1,\n",
    "    101.6, 99.3, 96.1, 100, 99.7, 99.7, 99.4, 101.5, 100.9,\n",
    "    101.2, 99.9, 99.1, 100.7, 100.8, 100.8, 101.4, 100.3, 98.4, 97.2\n",
    "])"
   ]
  },
  {
   "cell_type": "code",
   "execution_count": 22,
   "id": "32f378be-7541-4e80-ac27-89bd24cac26d",
   "metadata": {},
   "outputs": [
    {
     "name": "stdout",
     "output_type": "stream",
     "text": [
      "The point estimator of the variance is  2.3160743670886093\n",
      "The 95% confidence interval of the variance is 1.7348 and 3.2494\n"
     ]
    }
   ],
   "source": [
    "n = len(can_data)\n",
    "df = n - 1 \n",
    "\n",
    "can_var = np.var(can_data, ddof=1) # 표본 분산 점 추정량 \n",
    "\n",
    "# 유의수준 & 카이제곱 임계값 \n",
    "alpha = 0.05\n",
    "chi2_l = chi2.ppf(1 - alpha/2,df)\n",
    "chi2_u = chi2.ppf(alpha/2,df)\n",
    "\n",
    "# 95% 신뢰구간 \n",
    "L1 = (df * can_var) / chi2_l\n",
    "U1 = (df * can_var) / chi2_u\n",
    "\n",
    "print(\"The point estimator of the variance is \", can_var)\n",
    "print(f\"The 95% confidence interval of the variance is {np.round(L1,4)} and {np.round(U1,4)}\")\n"
   ]
  },
  {
   "cell_type": "code",
   "execution_count": null,
   "id": "8af32c61-83b0-4e56-b3db-d0d99f9ce01d",
   "metadata": {},
   "outputs": [],
   "source": []
  },
  {
   "cell_type": "code",
   "execution_count": null,
   "id": "8ba09b7f-1726-4eb7-8cb8-89ec074243a9",
   "metadata": {},
   "outputs": [],
   "source": []
  },
  {
   "cell_type": "code",
   "execution_count": null,
   "id": "6f727433-d1ac-49a2-ae6b-80a42ffa3c07",
   "metadata": {},
   "outputs": [],
   "source": []
  }
 ],
 "metadata": {
  "kernelspec": {
   "display_name": "Python [conda env:base] *",
   "language": "python",
   "name": "conda-base-py"
  },
  "language_info": {
   "codemirror_mode": {
    "name": "ipython",
    "version": 3
   },
   "file_extension": ".py",
   "mimetype": "text/x-python",
   "name": "python",
   "nbconvert_exporter": "python",
   "pygments_lexer": "ipython3",
   "version": "3.12.7"
  }
 },
 "nbformat": 4,
 "nbformat_minor": 5
}

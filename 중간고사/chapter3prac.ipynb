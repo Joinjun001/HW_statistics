{
 "cells": [
  {
   "cell_type": "code",
   "execution_count": 13,
   "id": "9388d829-d3f7-410f-ac2c-dcadf0f8f5e4",
   "metadata": {},
   "outputs": [],
   "source": [
    "import pandas as pd\n",
    "import numpy as np\n",
    "import matplotlib.pyplot as plt\n",
    "from scipy.stats import chi2, norm, t, f"
   ]
  },
  {
   "cell_type": "code",
   "execution_count": 14,
   "id": "af6b37f5-1103-4783-92d7-f12a1f303553",
   "metadata": {},
   "outputs": [
    {
     "data": {
      "text/plain": [
       "array([101.3851234 ,  98.26952221,  97.34091663, 104.90049346,\n",
       "       102.13685397,  98.04963906,  97.40314782, 102.88063658,\n",
       "        98.15681654,  97.8206282 , 102.3588493 ,  98.24807846,\n",
       "        97.54054961, 102.50967417, 101.4346519 , 100.02895253,\n",
       "       100.15365785, 100.76314369, 100.62923257,  99.44811184,\n",
       "        98.97394101, 103.55470989, 104.93475536,  97.4282409 ,\n",
       "        96.5066892 , 102.36552153, 107.194614  ,  97.7527665 ,\n",
       "       104.29696041,  94.21556938, 101.91569611,  97.24412035,\n",
       "        97.73473161, 102.04095297, 104.47170525,  97.13889558,\n",
       "       100.20864521, 103.72560212, 109.59061577,  99.71158077,\n",
       "       104.30750545, 103.59629231,  98.8617036 ,  97.44713043,\n",
       "       104.71595164, 109.15664147, 100.68746374,  99.96354029,\n",
       "        94.84275652, 102.34745653])"
      ]
     },
     "execution_count": 14,
     "metadata": {},
     "output_type": "execute_result"
    }
   ],
   "source": [
    "xs = norm.rvs(loc=100,scale=np.sqrt(10),size=100)\n",
    "xs[:50]"
   ]
  },
  {
   "cell_type": "code",
   "execution_count": 15,
   "id": "4b96fe42-9c82-4020-81bc-212e9489fbfe",
   "metadata": {},
   "outputs": [
    {
     "name": "stdout",
     "output_type": "stream",
     "text": [
      "mean : 100.75418849109487 std : 3.284293078790612\n",
      "95% 신뢰구간 100.1105 ~ 101.3979\n"
     ]
    }
   ],
   "source": [
    "n = len(xs)\n",
    "xs_mean = np.mean(xs)\n",
    "xs_std = np.std(xs,ddof=1) \n",
    "\n",
    "print(f\"mean : {xs_mean} std : {xs_std}\")\n",
    "\n",
    "# 평균의 신뢰구간 95% 구하기 \n",
    "\n",
    "L1 = xs_mean - norm().ppf(0.975)* xs_std/np.sqrt(n)\n",
    "U1 = xs_mean + norm().ppf(0.975)*xs_std/np.sqrt(n)\n",
    "\n",
    "print(f\"95% 신뢰구간 {np.round(L1,4)} ~ {np.round(U1,4)}\")"
   ]
  },
  {
   "cell_type": "code",
   "execution_count": 16,
   "id": "3b2bec7f-1467-4001-be5b-6089f5cd9f05",
   "metadata": {},
   "outputs": [
    {
     "data": {
      "text/plain": [
       "array([103.59629231, 103.55470989,  97.44713043, 101.91569611,\n",
       "       101.74214228,  99.58689606, 101.91569611, 107.194614  ,\n",
       "        97.0434734 , 100.21646934, 104.56082033,  97.13889558,\n",
       "        99.16766529, 100.42639285, 102.54887798, 102.36552153,\n",
       "        94.84275652,  97.34091663,  97.15676311, 100.42639285,\n",
       "       100.20864521,  98.97394101, 105.21936365,  99.96354029,\n",
       "       102.93891103])"
      ]
     },
     "execution_count": 16,
     "metadata": {},
     "output_type": "execute_result"
    }
   ],
   "source": [
    "# 작은 사이즈(t검정) \n",
    "small_xs = np.random.choice(xs,size=25,replace=True)\n",
    "small_xs"
   ]
  },
  {
   "cell_type": "code",
   "execution_count": 18,
   "id": "e5dc2d9f-3f16-408e-a477-3ef8dd934d22",
   "metadata": {},
   "outputs": [
    {
     "name": "stdout",
     "output_type": "stream",
     "text": [
      "95% 신뢰구간 99.4734 ~ 101.926\n"
     ]
    }
   ],
   "source": [
    "n = len(small_xs)\n",
    "df = n-1\n",
    "small_mean = np.mean(small_xs)\n",
    "small_std = np.std(small_xs,ddof=1)\n",
    "\n",
    "L1 = small_mean - t(df).ppf(0.975)*small_std/np.sqrt(n)\n",
    "U1 = small_mean + t(df).ppf(0.975)*small_std/np.sqrt(n)\n",
    "\n",
    "print(f\"95% 신뢰구간 {np.round(L1,4)} ~ {np.round(U1,4)}\")"
   ]
  },
  {
   "cell_type": "code",
   "execution_count": null,
   "id": "fd9a8a4d-0afd-494a-8100-9607d0675b89",
   "metadata": {},
   "outputs": [],
   "source": []
  },
  {
   "cell_type": "markdown",
   "id": "6c5ff186-ed81-4e14-8abc-c52d5823a144",
   "metadata": {},
   "source": [
    "## Problem 1\n",
    "\n",
    "A company randomly select 250 customers and send the promotion code for a new product.\n",
    "\n",
    "Among these, 70 people responded to buy the product using the promotion code. \n",
    "\n",
    "Then what would be the proportion of the customers to buy the product,\n",
    "\n",
    "and what is the 90% confidence interval of that?"
   ]
  },
  {
   "cell_type": "code",
   "execution_count": 20,
   "id": "19d7e322-787a-4ace-8ea0-dee3af526fa1",
   "metadata": {},
   "outputs": [
    {
     "name": "stdout",
     "output_type": "stream",
     "text": [
      "표본확률 측정값 : 0.28\n",
      "90% 신뢰구간 0.2333 ~ 0.3267\n"
     ]
    }
   ],
   "source": [
    "n = 250 # 표본개수\n",
    "p_hat = 70/250 # 표본확률\n",
    "alpha= 0.1 \n",
    "\n",
    "L1 = p_hat - norm().ppf(0.95)*np.sqrt(p_hat*(1-p_hat)/n)\n",
    "U1 = p_hat + norm().ppf(0.95)*np.sqrt(p_hat*(1-p_hat)/n)\n",
    "\n",
    "print(f\"표본확률 측정값 : {p_hat}\")\n",
    "print(f\"90% 신뢰구간 {np.round(L1,4)} ~ {np.round(U1,4)}\")"
   ]
  },
  {
   "cell_type": "markdown",
   "id": "6c14beea-9093-4c09-94b6-04c85898f1b1",
   "metadata": {},
   "source": [
    "## Problem 2\n",
    "\n",
    "Find the 95% confidence interval of the variance with 'can data'\n",
    "\n",
    "여기선 can_data 대신 xs로 실습 "
   ]
  },
  {
   "cell_type": "code",
   "execution_count": 23,
   "id": "d246476a-a6fd-444e-9f61-1545b19b4b54",
   "metadata": {},
   "outputs": [
    {
     "name": "stdout",
     "output_type": "stream",
     "text": [
      "95% 신뢰구간 8.3153 ~ 14.5564\n"
     ]
    }
   ],
   "source": [
    "n = len(xs)\n",
    "df = n-1\n",
    "s2 = np.var(xs,ddof=1)\n",
    "chi_dist = chi2(df)\n",
    "\n",
    "l1=(n-1)*s2/chi_dist.ppf(0.975)\n",
    "u1=(n-1)*s2/chi_dist.ppf(0.025)\n",
    "\n",
    "print(f\"95% 신뢰구간 {np.round(l1,4)} ~ {np.round(u1,4)}\")"
   ]
  },
  {
   "cell_type": "markdown",
   "id": "e5a8f104-ccd2-4d56-9a19-e01de695aeb2",
   "metadata": {},
   "source": [
    "## Problem 3\n",
    "\n",
    "Calculate the 95% confidence interval of the difference of the means."
   ]
  },
  {
   "cell_type": "code",
   "execution_count": 25,
   "id": "2d26bfe7-b55d-4d03-8e68-634c3272651a",
   "metadata": {},
   "outputs": [
    {
     "name": "stdout",
     "output_type": "stream",
     "text": [
      "---A group---\n",
      "[ 97.73473161 100.77800811 102.3588493  100.69625077 104.47170525\n",
      " 102.60866991 100.02895253 103.55470989  98.15681654  94.75004809\n",
      " 102.36552153 103.5359495   97.16010536 104.56082033 107.194614\n",
      " 101.66300084 105.85163763  99.58689606  99.96354029 100.21897401\n",
      "  97.34091663 106.77012297 102.08776821  98.97394101 107.194614\n",
      "  95.31567936 103.72560212  95.31567936 100.02895253 104.89673053]\n",
      "---B group---\n",
      "[101.66300084 103.5359495  102.08776821  99.81668988 101.73588343\n",
      "  97.13889558 104.30750545  97.44713043 104.30750545  97.73473161\n",
      "  94.84275652 102.36552153 103.59629231  99.81668988 100.42639285\n",
      " 105.21936365 103.55470989  99.96354029 103.59629231 105.21936365\n",
      " 102.54887798 104.22600175  97.34091663 104.89673053 102.13685397]\n"
     ]
    }
   ],
   "source": [
    "A_group = np.random.choice(xs,30,replace=True)\n",
    "B_group = np.random.choice(xs,25,replace=True)\n",
    "print(\"---A group---\")\n",
    "print(A_group)\n",
    "print(\"---B group---\")\n",
    "print(B_group)"
   ]
  },
  {
   "cell_type": "code",
   "execution_count": 26,
   "id": "e8a8b942-2e0d-499b-aa4f-c188d4f84a70",
   "metadata": {},
   "outputs": [
    {
     "name": "stdout",
     "output_type": "stream",
     "text": [
      "Pooled estimator of the variance is  10.6046\n"
     ]
    }
   ],
   "source": [
    "n1 = len(A_group)\n",
    "n2 = len(B_group)\n",
    "\n",
    "pooled_s2 = ((n1-1)*np.var(A_group,ddof=1) + (n2-1)*np.var(B_group,ddof=1))/(n1+n2-2)\n",
    "print(\"Pooled estimator of the variance is \", np.round(pooled_s2,4))"
   ]
  },
  {
   "cell_type": "code",
   "execution_count": 28,
   "id": "1fc6b1e1-5d8e-42aa-91f2-7a135f48bebd",
   "metadata": {},
   "outputs": [
    {
     "name": "stdout",
     "output_type": "stream",
     "text": [
      "The point estimator of the difference of the mean is -0.2847\n",
      "95% confidence interval of the mean difference is -2.0535 and 1.4841\n"
     ]
    }
   ],
   "source": [
    "a_mean = np.mean(A_group)\n",
    "b_mean = np.mean(B_group)\n",
    "df= n1+n2-2\n",
    "\n",
    "l1 = (a_mean-b_mean) - t(df).ppf(0.975)*np.sqrt(pooled_s2)*np.sqrt(1/n1+1/n2)\n",
    "u1 = (a_mean-b_mean) + t(df).ppf(0.975)*np.sqrt(pooled_s2)*np.sqrt(1/n1+1/n2)\n",
    "\n",
    "print(f\"The point estimator of the difference of the mean is {np.round(a_mean-b_mean,4)}\")\n",
    "print(f\"95% confidence interval of the mean difference is {np.round(l1,4)} and {np.round(u1,4)}\")"
   ]
  },
  {
   "cell_type": "markdown",
   "id": "f47ca380-6796-4b2d-859e-cd4999883e52",
   "metadata": {},
   "source": [
    "## Problem 4\n",
    "About the difference of two proportions\n",
    "\n",
    "A survey company asked 100 males and 100 female if they married or not. \n",
    "\n",
    "62 male and 29 female responded that they are married.\n",
    "\n",
    "Compute the 90% confidence interval of the difference of the two proportions."
   ]
  },
  {
   "cell_type": "code",
   "execution_count": 29,
   "id": "5fa34aaf-13ba-4b1d-9ec4-bef8a0cc1c45",
   "metadata": {},
   "outputs": [
    {
     "name": "stdout",
     "output_type": "stream",
     "text": [
      "difference of two proportions : 0.33\n",
      "90% confidence interval of the propportion difference is 0.2207 and 0.4393\n"
     ]
    }
   ],
   "source": [
    "n1 = n2 = 100\n",
    "p_male = 62/n1\n",
    "p_female = 29/n2\n",
    "\n",
    "l1 = (p_male-p_female) - norm().ppf(0.95)*np.sqrt(p_male*(1-p_male)/n1 + p_female*(1-p_female)/n2)\n",
    "u1 = (p_male-p_female) + norm().ppf(0.95)*np.sqrt(p_male*(1-p_male)/n1 + p_female*(1-p_female)/n2)\n",
    "\n",
    "print(f\"difference of two proportions : {p_male - p_female}\")\n",
    "print(f\"90% confidence interval of the propportion difference is {np.round(l1,4)} and {np.round(u1,4)}\")"
   ]
  },
  {
   "cell_type": "code",
   "execution_count": null,
   "id": "4907d55c-c7a0-4be9-8e53-722b73f08e6f",
   "metadata": {},
   "outputs": [],
   "source": []
  }
 ],
 "metadata": {
  "kernelspec": {
   "display_name": "Python 3 (ipykernel)",
   "language": "python",
   "name": "python3"
  },
  "language_info": {
   "codemirror_mode": {
    "name": "ipython",
    "version": 3
   },
   "file_extension": ".py",
   "mimetype": "text/x-python",
   "name": "python",
   "nbconvert_exporter": "python",
   "pygments_lexer": "ipython3",
   "version": "3.13.5"
  }
 },
 "nbformat": 4,
 "nbformat_minor": 5
}

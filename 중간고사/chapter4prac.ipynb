{
 "cells": [
  {
   "cell_type": "markdown",
   "id": "4e49921b-555c-49f7-a3eb-672d8eb812f5",
   "metadata": {},
   "source": [
    "### t statistics(t_stat) 란? \n",
    "\n",
    "모평균에 대한 가설 검정 시, 표본으로부터 얻은 평균이 귀무가설 하에서 \n",
    "\n",
    "얼마나 떨어져 있는지를 표준 오차 단위로 측정한 값입니다.\n",
    "\n",
    "즉 추론통계량(inferential statistic)이라고도 할 수 있다.\n",
    "\n",
    "### 평균,분산,확률에 대한 T_stat\n",
    "\n",
    "* 표본평균 => N(x_bar, s2/n)\n",
    "* 표본확률 => N(p, p(1-p)/n)\n",
    "* 표본분산 => chi2(n-1)을 따른다, (n-1)* 표본분산 / 모분산\n",
    "\n",
    "\n",
    "### scipy.stats module 을 잘 사용해야함\n",
    "\n",
    "ttest_1samp(x, popmean, alternative)\n",
    "* x = data (표본 ex: np.random.choice(25) )\n",
    "* popmean = 귀무가설에 대한 평균or분산or확률 (모데이터)\n",
    "* alternative = 검정방법 (two-sided,less,greater)\n",
    "\n"
   ]
  },
  {
   "cell_type": "markdown",
   "id": "be1a0a04-19f9-4ec4-8111-e2d5901b09b4",
   "metadata": {},
   "source": [
    "## 직접 검정을 해보자"
   ]
  },
  {
   "cell_type": "code",
   "execution_count": 37,
   "id": "595bb981-b0f7-4394-8693-cdf8b0c5065a",
   "metadata": {},
   "outputs": [],
   "source": [
    "import numpy as np\n",
    "import matplotlib.pyplot as plt\n",
    "from scipy.stats import chi2, norm, t, f, ttest_1samp"
   ]
  },
  {
   "cell_type": "code",
   "execution_count": 38,
   "id": "ff56d789-03a1-4bc4-adef-31eafa05d8f4",
   "metadata": {},
   "outputs": [
    {
     "name": "stdout",
     "output_type": "stream",
     "text": [
      "[-0.66356508  1.10997913  1.34977866 -0.31673754 -0.69255946 -2.57871354\n",
      "  0.32689779  2.08139966  0.56501407 -0.83602978  0.23468734 -0.05740931\n",
      " -0.64733541  1.47101742 -0.50107224  1.32033653  0.35251571  1.15833767\n",
      " -2.16793095  0.1427235  -0.34300737  0.79789775 -0.50576595 -0.58959365\n",
      " -1.54247305  1.15936293 -0.30476432  0.44484717 -1.95197149 -0.61017123\n",
      "  2.23889325 -0.9427137   0.32629944  0.43232927 -0.45085099 -0.30974209\n",
      " -0.25703559 -0.54797441 -1.58219384  0.99803579  0.19764835 -0.04008969\n",
      "  0.43354338  0.25146975 -1.04361634  0.10756383 -1.2875399  -0.90716955\n",
      "  1.10018884  0.12900033]\n"
     ]
    }
   ],
   "source": [
    "x1 = norm.rvs(size = 100)\n",
    "print(x1[:50])"
   ]
  },
  {
   "cell_type": "code",
   "execution_count": 39,
   "id": "351f3a5c-fa21-497d-b019-9b37df4ea302",
   "metadata": {},
   "outputs": [
    {
     "data": {
      "image/png": "[encoded data removed]",
      "text/plain": [
       "<Figure size 640x480 with 1 Axes>"
      ]
     },
     "metadata": {},
     "output_type": "display_data"
    }
   ],
   "source": [
    "x_axis = np.linspace(norm.ppf(0.01, loc = np.mean(x1), scale=np.std(x1,ddof=1)),\n",
    "                     norm.ppf(0.99,loc=np.mean(x1), scale=np.std(x1,ddof=1)))\n",
    "plt.hist(x1, bins=30, density=True) # density=True로 해야 히스토그램 전체면적이 1이됨. (정규분포와 비교할때 사용)\n",
    "plt.plot(x_axis, norm.pdf(x_axis, loc=np.mean(x1),scale=np.std(x1,ddof=1)),color='red')\n",
    "plt.show()"
   ]
  },
  {
   "cell_type": "markdown",
   "id": "9dac762d-7fd8-4637-95dc-096de788d138",
   "metadata": {},
   "source": [
    "### 모평균이 0.5라고 가정하고, alternative = 'two-sided', 유의수준은 0.05라고 하자 "
   ]
  },
  {
   "cell_type": "code",
   "execution_count": 40,
   "id": "4cd49b37-0e7b-4b98-8a6a-0f36c322cbd8",
   "metadata": {},
   "outputs": [
    {
     "name": "stdout",
     "output_type": "stream",
     "text": [
      "Test statistic :  -5.670223401861651\n",
      "Accept H0\n"
     ]
    }
   ],
   "source": [
    "def z_stat(x, popmean, alpha, alternative):\n",
    "    n = len(x)\n",
    "    z_value = (np.mean(x) - popmean) / (np.std(x,ddof=1)/np.sqrt(n))\n",
    "    print(\"Test statistic : \", z_value)\n",
    "\n",
    "    if alternative =='two-side':\n",
    "        print(\"Reject H0\") if np.abs(z_value) > norm.ppf(1-alpha/2) else print('Accept H0')\n",
    "    elif alternative == 'less':\n",
    "        print(\"Reject H0\") if z_value < norm.ppf(alpha) else print('Accept H0')\n",
    "    else:\n",
    "        print('Reject H0') if z_value > norm.ppf(1-alpha) else print('Accept H0')\n",
    "\n",
    "z_stat(x1, 0.5, 0.05, 'two-sided')"
   ]
  },
  {
   "cell_type": "code",
   "execution_count": 45,
   "id": "a9d629b6-1a6c-4ff0-9b08-ed234cb6bdbf",
   "metadata": {},
   "outputs": [
    {
     "name": "stdout",
     "output_type": "stream",
     "text": [
      "t statistics : -0.7642 p_value : 0.2233\n"
     ]
    }
   ],
   "source": [
    "t_stat, p_value = ttest_1samp(x1, popmean=0,alternative='less')\n",
    "\n",
    "print(f\"t statistics : {np.round(t_stat,4)} p_value : {np.round(p_value,4)}\")"
   ]
  },
  {
   "cell_type": "code",
   "execution_count": 44,
   "id": "d4474a56-fc47-4e0e-85b8-b318d95c37f4",
   "metadata": {},
   "outputs": [
    {
     "name": "stdout",
     "output_type": "stream",
     "text": [
      "t statistics : -0.7642 p_value : 0.7767\n"
     ]
    }
   ],
   "source": [
    "t_stat, p_value = ttest_1samp(x1, popmean=0,alternative='greater')\n",
    "\n",
    "print(f\"t statistics : {np.round(t_stat,4)} p_value : {np.round(p_value,4)}\")"
   ]
  },
  {
   "cell_type": "code",
   "execution_count": 46,
   "id": "7280d836-c02c-46c6-895e-a4fb0b31bd5b",
   "metadata": {},
   "outputs": [
    {
     "name": "stdout",
     "output_type": "stream",
     "text": [
      "t statistics : -0.7642 p_value : 0.4466\n"
     ]
    }
   ],
   "source": [
    "t_stat, p_value = ttest_1samp(x1, popmean=0,alternative='two-sided')\n",
    "\n",
    "print(f\"t statistics : {np.round(t_stat,4)} p_value : {np.round(p_value,4)}\")"
   ]
  },
  {
   "cell_type": "code",
   "execution_count": null,
   "id": "518b56d0-37a4-407b-b2e5-84aac6557aa8",
   "metadata": {},
   "outputs": [],
   "source": []
  }
 ],
 "metadata": {
  "kernelspec": {
   "display_name": "Python 3 (ipykernel)",
   "language": "python",
   "name": "python3"
  },
  "language_info": {
   "codemirror_mode": {
    "name": "ipython",
    "version": 3
   },
   "file_extension": ".py",
   "mimetype": "text/x-python",
   "name": "python",
   "nbconvert_exporter": "python",
   "pygments_lexer": "ipython3",
   "version": "3.13.5"
  }
 },
 "nbformat": 4,
 "nbformat_minor": 5
}

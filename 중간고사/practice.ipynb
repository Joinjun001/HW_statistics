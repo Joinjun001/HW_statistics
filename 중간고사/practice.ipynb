{
 "cells": [
  {
   "cell_type": "markdown",
   "id": "05ee1cbb-b66e-4f91-80a7-3e6be0f962d6",
   "metadata": {},
   "source": [
    "중간고사 문제 풀이\n",
    "\n",
    "영어 지문으로 나오면 그에 대한걸 풀면된다. \n",
    "\n",
    "공식을 알아야되니까, A4용지의 1/4에 해당하는 종이크기에 공식을 적어오자. \n",
    "\n",
    "(평균,분산,확률) 점추정은 그냥 np 써서 딸깍하면 되지만, 구간추정은 공식 봐야됨, 평균 분산 확률에 따라서 공식이 상이함 \n",
    "\n",
    "소표본일때도 생각하기.\n",
    "\n",
    "* 평균 => 정규분포 이용\n",
    "* 확률 => 정규분포 이용\n",
    "* 분산 => 카이제곱 이용 \n"
   ]
  },
  {
   "cell_type": "markdown",
   "id": "d9c96523-4f7c-465f-a228-2e9678a890dd",
   "metadata": {},
   "source": [
    "## 첫번째 문제 \n",
    "\n",
    "A company randomly select 250 customers and send the promotion code for a new product. \n",
    "\n",
    "Among these, 70 people responded to buy the product using the promotion code. \n",
    "\n",
    "Then what would be the proportion of the customers to buy the product, \n",
    "\n",
    "and what is the 90% confidence interval of that?"
   ]
  },
  {
   "cell_type": "code",
   "execution_count": 2,
   "id": "b6938444-9a76-4894-a255-fc793d19ace2",
   "metadata": {},
   "outputs": [
    {
     "name": "stdout",
     "output_type": "stream",
     "text": [
      "표본확률 : 0.28\n",
      "확률에 대한 90% 신뢰구간 0.2333 ~ 0.3267 \n"
     ]
    }
   ],
   "source": [
    "import numpy as np\n",
    "import pandas as pd\n",
    "import matplotlib.pyplot as plt\n",
    "from scipy.stats import chi2\n",
    "from scipy.stats import norm\n",
    "\n",
    "\n",
    "# 확률과 모집단에 대한 90% 신뢰구간 구하기  \n",
    "\n",
    "# 표본공간의 크기, 데이터 개수 \n",
    "n = 250  \n",
    "x = 70 \n",
    "\n",
    "# 확률\n",
    "p_hat = x/n\n",
    "\n",
    "# 신뢰구간\n",
    "\n",
    "z_norm = norm(loc=0, scale=1)\n",
    "L1 = p_hat - z_norm.ppf(0.95) * np.sqrt(p_hat*(1-p_hat)/n)\n",
    "U1 = p_hat + z_norm.ppf(0.95) * np.sqrt(p_hat*(1-p_hat)/n)\n",
    "\n",
    "print(f\"표본확률 : {p_hat}\")\n",
    "print(f\"확률에 대한 90% 신뢰구간 {np.round(L1,4)} ~ {np.round(U1,4)} \")"
   ]
  },
  {
   "cell_type": "markdown",
   "id": "63c00b31-2d3d-4b55-8ab0-673ded9a1ba6",
   "metadata": {},
   "source": [
    "## 두번째 문제\n",
    "\n",
    "Find the 95% confidence interval of the variance with ‘can data’"
   ]
  },
  {
   "cell_type": "code",
   "execution_count": 3,
   "id": "020ca9d7-8a25-4bf8-8f23-a54eb74a0499",
   "metadata": {},
   "outputs": [
    {
     "name": "stdout",
     "output_type": "stream",
     "text": [
      "분산에 대한 95% 신뢰구간 1.7348 ~ 3.2494\n"
     ]
    }
   ],
   "source": [
    "# can_data의 분산의 95% 신뢰구간 구하기\n",
    "\n",
    "can_data = np.array([\n",
    "    101.8, 101.5, 102.6, 101, 101.8, 96.8, 102.4, 100,\n",
    "    98.8, 98.1, 98.8, 98, 99.4, 95.5, 100.1, 100.5, 97.4, 100.2,\n",
    "    101.4, 98.7, 101.4, 99.4, 101.7, 99, 99.7, 98.8, 99.5, 100,\n",
    "    99.7, 100.9, 99.7, 99, 98.8, 99.7, 100.9, 99.9, 97.5,\n",
    "    101.5, 98.2, 99.2, 98.6, 101.4, 102.1, 102.9, 100.8,\n",
    "    99.4, 103.7, 100.3, 100.2, 101.1, 101.8, 100, 101.2,\n",
    "    100.5, 101.2, 101.6, 99.9, 100.5, 100.4, 98.1, 100.1,\n",
    "    101.6, 99.3, 96.1, 100, 99.7, 99.7, 99.4, 101.5, 100.9,\n",
    "    101.2, 99.9, 99.1, 100.7, 100.8, 100.8, 101.4, 100.3, 98.4, 97.2\n",
    "])\n",
    "\n",
    "n = len(can_data)\n",
    "df = n-1\n",
    "s2 = np.var(can_data,ddof=1)\n",
    "chi_dist = chi2(df)\n",
    "alpha = 0.05\n",
    "\n",
    "L1 = df*s2/chi_dist.ppf(1-alpha/2)\n",
    "U1 = df*s2/chi_dist.ppf(alpha/2)\n",
    "\n",
    "print(f\"분산에 대한 95% 신뢰구간 {np.round(L1,4)} ~ {np.round(U1,4)}\")\n",
    "\n"
   ]
  },
  {
   "cell_type": "code",
   "execution_count": null,
   "id": "c8f6f2d3-218d-4fa2-8a5e-f1c462105070",
   "metadata": {},
   "outputs": [],
   "source": []
  }
 ],
 "metadata": {
  "kernelspec": {
   "display_name": "Python [conda env:base] *",
   "language": "python",
   "name": "conda-base-py"
  },
  "language_info": {
   "codemirror_mode": {
    "name": "ipython",
    "version": 3
   },
   "file_extension": ".py",
   "mimetype": "text/x-python",
   "name": "python",
   "nbconvert_exporter": "python",
   "pygments_lexer": "ipython3",
   "version": "3.12.7"
  }
 },
 "nbformat": 4,
 "nbformat_minor": 5
}

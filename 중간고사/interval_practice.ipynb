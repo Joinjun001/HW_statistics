{
 "cells": [
  {
   "cell_type": "markdown",
   "id": "05ee1cbb-b66e-4f91-80a7-3e6be0f962d6",
   "metadata": {},
   "source": [
    "±\n",
    "## 추정 문제 풀이\n",
    "함수에 파라미터가 뭔지 모르면 그냥 help(함수) 쓰기.\n",
    "\n",
    "### 그룹이 1개일때 \n",
    "- 평균 (평균만 소표본 구할때 norm대신 t분포 사용)\n",
    "  * 대표본 : x_bar ± norm.ppf(1-alpha/2)* (s / np.sqrt(n))\n",
    "  * 소표본 : x_bar ± t.ppf(q=1-alpha/2,df=n-1)* (s / np.sqrt(n))\n",
    "- 비율 \n",
    "  * phat ± norm.ppf(1-alpha/2)* np.sqrt(phat*(1-phat)/n)\n",
    "- 분산 \n",
    "  * (n-1)*s2/chi2.ppf(q=1-alpha/2,df=n-1) and q=alpha/2\n",
    "\n",
    "### 그룹이 2개일때\n",
    "- 평균\n",
    "    * 대표본 : a_mean - b_mean ± norm.ppf(alpha/2)*np.sqrt(var1/n + var2/n)\n",
    "    * 소표본 : pooled_s2 = (n1-1)*var1 + (n2-1)*var2/n1+n2-2,\n",
    "    * a_mean - b_mean ± t.ppf(q=alpha/2,df=n-1)*pooled_s2*np.sqrt(1/n1 + 1/n2) \n",
    "- 비율\n",
    "    * phat1 - phat2 ± norm.ppf(alpha/2) * np.sqrt(phat1*(1-phat1)/n1 + phat2*(1-phat2)/n2)\n",
    "- 분산 (그룹 1개면 chi2 사용, 2개면 F분포 사용)\n",
    "  * var1/var2 * F(q=1-alpha/2,dfn=n1-1,dfd=n2-1)\n"
   ]
  },
  {
   "cell_type": "code",
   "execution_count": 124,
   "id": "b6938444-9a76-4894-a255-fc793d19ace2",
   "metadata": {},
   "outputs": [
    {
     "name": "stdout",
     "output_type": "stream",
     "text": [
      "표본확률 : 0.28\n",
      "확률에 대한 90% 신뢰구간 0.2333 ~ 0.3267 \n"
     ]
    }
   ],
   "source": [
    "import numpy as np\n",
    "import pandas as pd\n",
    "import matplotlib.pyplot as plt\n",
    "from scipy.stats import chi2, norm, t\n",
    "\n",
    "\n",
    "# 확률과 모집단에 대한 90% 신뢰구간 구하기  \n",
    "\n",
    "# 표본공간의 크기, 데이터 개수 \n",
    "n = 250  \n",
    "x = 70 \n",
    "\n",
    "# 확률\n",
    "p_hat = x/n\n",
    "\n",
    "# 신뢰구간\n",
    "\n",
    "z_norm = norm(loc=0, scale=1)\n",
    "L1 = p_hat - z_norm.ppf(0.95) * np.sqrt(p_hat*(1-p_hat)/n)\n",
    "U1 = p_hat + z_norm.ppf(0.95) * np.sqrt(p_hat*(1-p_hat)/n)\n",
    "\n",
    "print(f\"표본확률 : {p_hat}\")\n",
    "print(f\"확률에 대한 90% 신뢰구간 {np.round(L1,4)} ~ {np.round(U1,4)} \")"
   ]
  },
  {
   "cell_type": "markdown",
   "id": "7aee9495-16c9-4a13-aa0f-1810ec935d7f",
   "metadata": {},
   "source": [
    "HW2\n",
    "\n",
    "- 동전의 앞면과 뒷면이 나올 확률은 각각 0.5이다.\n",
    "- 이 동전을 1000 번 던져서, 앞면이 나올 확률을 선 그래프로 완성하시오.\n",
    "- 선 그래프는 x 축은 0부터 1000까지, y축은 0부터 1까지로 나타나야 합니다.\n",
    "- y가 0.5인 x축에 평행한 선을 빨간색으로 함께 나타내야 합니다."
   ]
  },
  {
   "cell_type": "code",
   "execution_count": 92,
   "id": "5604244a-97a1-4d43-88c1-a86a500a9409",
   "metadata": {},
   "outputs": [
    {
     "data": {
      "text/plain": [
       "array([1, 0, 1, 1, 0, 1, 1, 0, 1, 0, 1, 1, 1, 0, 0, 1, 1, 1, 1, 0, 0, 1,\n",
       "       0, 0, 1, 1, 1, 1, 0, 1, 1, 1, 0, 1, 1, 0, 1, 0, 1, 0, 0, 1, 0, 1,\n",
       "       1, 1, 1, 0, 1, 0])"
      ]
     },
     "execution_count": 92,
     "metadata": {},
     "output_type": "execute_result"
    }
   ],
   "source": [
    "import numpy as np\n",
    "import matplotlib.pyplot as plt\n",
    "\n",
    "n = 1000\n",
    "# 1 : Head, 0 : Tail\n",
    "result = np.random.choice([1,0], replace=True,size=n)\n",
    "result[:50]"
   ]
  },
  {
   "cell_type": "code",
   "execution_count": 94,
   "id": "33eef2e9-fb90-49b4-9e32-49654897aef7",
   "metadata": {},
   "outputs": [
    {
     "data": {
      "text/plain": [
       "array([0.50683491, 0.50630252, 0.50682057, 0.50628931, 0.50575916,\n",
       "       0.50523013, 0.50574713, 0.50626305, 0.50677789, 0.50625   ,\n",
       "       0.50676379, 0.50623701, 0.50571132, 0.50518672, 0.50466321,\n",
       "       0.50517598, 0.50568769, 0.50619835, 0.50567595, 0.50618557,\n",
       "       0.50566426, 0.50514403, 0.50565262, 0.50513347, 0.50461538,\n",
       "       0.50409836, 0.5035824 , 0.50306748, 0.50357508, 0.50408163,\n",
       "       0.50458716, 0.50509165, 0.50457782, 0.50406504, 0.50456853,\n",
       "       0.50507099, 0.50557244, 0.50506073, 0.50455005, 0.50505051,\n",
       "       0.50554995, 0.50604839, 0.50553877, 0.50603622, 0.50653266,\n",
       "       0.5060241 , 0.50651956, 0.50601202, 0.50650651])"
      ]
     },
     "execution_count": 94,
     "metadata": {},
     "output_type": "execute_result"
    }
   ],
   "source": [
    "# 상대도수가 1/2로 수렴하는지 확인.\n",
    "# 확률: 성공 개수 / 시행횟수\n",
    "trial = np.arange(1,n+1)\n",
    "freq = np.cumsum(result)\n",
    "prob = freq/trial\n",
    "prob[950:999]"
   ]
  },
  {
   "cell_type": "code",
   "execution_count": 96,
   "id": "99654a69-5b2b-40d8-92ad-6b893f04d5ca",
   "metadata": {},
   "outputs": [
    {
     "data": {
      "text/plain": [
       "<Figure size 640x480 with 0 Axes>"
      ]
     },
     "metadata": {},
     "output_type": "display_data"
    },
    {
     "data": {
      "image/png": "[encoded data removed]",
      "text/plain": [
       "<Figure size 640x480 with 1 Axes>"
      ]
     },
     "metadata": {},
     "output_type": "display_data"
    }
   ],
   "source": [
    "plt.figure()\n",
    "fig,ax1= plt.subplots()\n",
    "ax1.plot(prob,marker='o',markersize=5)\n",
    "plt.ylim(0,1)\n",
    "plt.axhline(y=0.5, color=\"red\",linewidth=1)\n",
    "plt.show()"
   ]
  },
  {
   "cell_type": "markdown",
   "id": "485afb40-d24d-4905-914e-aee69bc39f33",
   "metadata": {},
   "source": [
    "HW3\n",
    "\n",
    "- can_data 를 이용하여 아래 사항을 구하시오.\n",
    "- (1) 분산의 점추정량을 구하시오.\n",
    "- (2) 분산에 대한 95% 신뢰구간을 구하시오."
   ]
  },
  {
   "cell_type": "code",
   "execution_count": 98,
   "id": "9a453d77-3a7d-4bc1-b103-f386996f58a0",
   "metadata": {},
   "outputs": [],
   "source": [
    "import numpy as np\n",
    "from scipy.stats import norm,chi2\n",
    "\n",
    "can_data = np.array([\n",
    "    101.8, 101.5, 102.6, 101, 101.8, 96.8, 102.4, 100,\n",
    "    98.8, 98.1, 98.8, 98, 99.4, 95.5, 100.1, 100.5, 97.4, 100.2,\n",
    "    101.4, 98.7, 101.4, 99.4, 101.7, 99, 99.7, 98.8, 99.5, 100,\n",
    "    99.7, 100.9, 99.7, 99, 98.8, 99.7, 100.9, 99.9, 97.5,\n",
    "    101.5, 98.2, 99.2, 98.6, 101.4, 102.1, 102.9, 100.8,\n",
    "    99.4, 103.7, 100.3, 100.2, 101.1, 101.8, 100, 101.2,\n",
    "    100.5, 101.2, 101.6, 99.9, 100.5, 100.4, 98.1, 100.1,\n",
    "    101.6, 99.3, 96.1, 100, 99.7, 99.7, 99.4, 101.5, 100.9,\n",
    "    101.2, 99.9, 99.1, 100.7, 100.8, 100.8, 101.4, 100.3, 98.4, 97.2\n",
    "])"
   ]
  },
  {
   "cell_type": "code",
   "execution_count": 100,
   "id": "6535a5ae-76fd-43bb-be41-77714878d79a",
   "metadata": {},
   "outputs": [
    {
     "name": "stdout",
     "output_type": "stream",
     "text": [
      "평균 점 추정량 : 100.03875000000001\n",
      "모평균 95% 신뢰구간 : 100.3722 ~ 99.7053\n"
     ]
    }
   ],
   "source": [
    "## 모평균 신뢰구간 95% 구하기 \n",
    "n = len(can_data)\n",
    "can_mean = np.mean(can_data)\n",
    "alpha = 0.05\n",
    "s2 = np.var(can_data,ddof=1)\n",
    "\n",
    "l1 = can_mean - norm.ppf(alpha/2)*np.sqrt(s2/n)\n",
    "u1 = can_mean + norm.ppf(alpha/2)*np.sqrt(s2/n)\n",
    "\n",
    "print(f\"평균 점 추정량 : {can_mean}\")\n",
    "print(f\"모평균 95% 신뢰구간 : {np.round(l1,4)} ~ {np.round(u1,4)}\")"
   ]
  },
  {
   "cell_type": "code",
   "execution_count": 102,
   "id": "398a70ef-825c-4019-9f6c-6457814fe019",
   "metadata": {},
   "outputs": [
    {
     "name": "stdout",
     "output_type": "stream",
     "text": [
      "표본비율 점 추정량 : 0.474\n",
      "모비율 95% 신뢰구간 0.4302 ~ 0.5178\n"
     ]
    }
   ],
   "source": [
    "# 모비율 신뢰구간 95% 구하기\n",
    "# 동전 500번 던진 데이터로 진행하자\n",
    "n = 500\n",
    "result = np.random.choice([1,0],replace=True,size=n)\n",
    "phat= np.sum(result)/len(result)\n",
    "\n",
    "l1 = phat - norm.ppf(1-alpha/2)*np.sqrt(phat*(1-phat)/n)\n",
    "u1 = phat + norm.ppf(1-alpha/2)*np.sqrt(phat*(1-phat)/n)\n",
    "\n",
    "print(f\"표본비율 점 추정량 : {phat}\")\n",
    "print(f\"모비율 95% 신뢰구간 {np.round(l1,4)} ~ {np.round(u1,4)}\")"
   ]
  },
  {
   "cell_type": "code",
   "execution_count": 145,
   "id": "afc3760b-8066-4ece-a2ce-9191edfc9d14",
   "metadata": {},
   "outputs": [
    {
     "name": "stdout",
     "output_type": "stream",
     "text": [
      "점 추정량 : 2.3160743670886093\n",
      "모분산 신뢰구간 : 1.7348 ~ 3.2494\n"
     ]
    }
   ],
   "source": [
    "# 점추정량, 모분산 95%신뢰구간\n",
    "n = len(can_data)\n",
    "df=n-1\n",
    "alpha=0.05\n",
    "s2 = np.var(can_data,ddof=1)\n",
    "\n",
    "l1 = (n-1)*s2/chi2.ppf(df=df,q=1-alpha/2)\n",
    "u1 = (n-1)*s2/chi2.ppf(df=df,q=alpha/2)\n",
    "print(f\"점 추정량 : {s2}\")\n",
    "print(f\"모분산 신뢰구간 : {np.round(l1,4)} ~ {np.round(u1,4)}\")"
   ]
  },
  {
   "cell_type": "code",
   "execution_count": 147,
   "id": "bd3f225a-4e82-4770-ae22-592fb500d920",
   "metadata": {},
   "outputs": [
    {
     "name": "stdout",
     "output_type": "stream",
     "text": [
      "---a group---\n",
      "[ 98.1  98.8  99.7 102.6  99.4  98.2 101.2 100.9  99.7  98.1  98.7  98.1\n",
      "  98.8 100.  101.5 100.   99.7 101.7  98.8 101.8  99.7  99.9  99.4 101.4\n",
      " 101.5  99.9 100.8  99.  100.  101.5]\n",
      "---b group---\n",
      "[ 98.8 101.4  99.4  98.1  99.4  98.8 100.1 100.9 100.  100.9 102.1 102.6\n",
      " 100.8  98.4  97.4  99.2 100.3  98.4  98.  100.3 101.4 101.5 101.   99.7\n",
      "  98.4  97.4 102.4 101.4  99.   98.8]\n"
     ]
    }
   ],
   "source": [
    "## 소표본에서 평균 차이의 신뢰구간 구하기 \n",
    "a_group = np.random.choice(can_data,replace=True,size=30)\n",
    "b_group = np.random.choice(can_data,replace=True,size=30)\n",
    "\n",
    "print(\"---a group---\")\n",
    "print(a_group)\n",
    "print(\"---b group---\")\n",
    "print(b_group)"
   ]
  },
  {
   "cell_type": "code",
   "execution_count": 155,
   "id": "93ed3266-d936-41f0-bd46-687b9feee484",
   "metadata": {},
   "outputs": [
    {
     "name": "stdout",
     "output_type": "stream",
     "text": [
      "평균 차이 점 추정량 : 0.0867 \n",
      "모평균 차이 95%신뢰구간 : -0.626 ~ 0.7993\n"
     ]
    }
   ],
   "source": [
    "n1 = len(a_group)\n",
    "n2 = len(b_group)\n",
    "df = n1+n2-2\n",
    "a_mean = np.mean(a_group)\n",
    "b_mean = np.mean(b_group)\n",
    "a_var = np.var(a_group,ddof=1)\n",
    "b_var = np.var(b_group,ddof=1)\n",
    "\n",
    "pooled_s2 = ((n1-1)*a_var+(n2-1)*b_var)/df\n",
    "\n",
    "l1 = (a_mean - b_mean) - t.ppf(df=df,q=1-alpha/2)*np.sqrt(pooled_s2)*np.sqrt(1/n1 + 1/n2)\n",
    "u1 = (a_mean - b_mean) + t.ppf(df=df,q=1-alpha/2)*np.sqrt(pooled_s2)*np.sqrt(1/n1 + 1/n2)\n",
    "\n",
    "print(f\"평균 차이 점 추정량 : {np.round(a_mean - b_mean,4)} \")\n",
    "print(f\"모평균 차이 95%신뢰구간 : {np.round(l1,4)} ~ {np.round(u1,4)}\")"
   ]
  },
  {
   "cell_type": "code",
   "execution_count": 157,
   "id": "f672b994-d6da-4dbe-b74f-e3ff591d0778",
   "metadata": {},
   "outputs": [
    {
     "name": "stdout",
     "output_type": "stream",
     "text": [
      "평균차이 점 추정량 : 0.0417\n",
      "모평균차이 95% 신뢰구간 -0.5198 ~ 0.6031\n"
     ]
    }
   ],
   "source": [
    "# 대표본에선 등분산 검정을 하지않음, \n",
    "a_group = np.random.choice(can_data,replace=True,size=60)\n",
    "b_group = np.random.choice(can_data,replace=True,size=60)\n",
    "n1 = len(a_group)\n",
    "n2 = len(b_group)\n",
    "a_mean = np.mean(a_group)\n",
    "b_mean = np.mean(b_group)\n",
    "a_var = np.var(a_group,ddof=1)\n",
    "b_var = np.var(b_group,ddof=1)\n",
    "\n",
    "l1 = a_mean - b_mean - norm.ppf(1-alpha/2)* np.sqrt(a_var/n1 + b_var/n2)\n",
    "u1 = a_mean - b_mean + norm.ppf(1-alpha/2)* np.sqrt(a_var/n1 + b_var/n2)\n",
    "\n",
    "print(f\"평균차이 점 추정량 : {np.round(a_mean - b_mean,4)}\")\n",
    "print(f\"모평균차이 95% 신뢰구간 {np.round(l1,4)} ~ {np.round(u1,4)}\")\n"
   ]
  },
  {
   "cell_type": "markdown",
   "id": "238feb17-866d-41fd-b8f8-b8b2660f6cde",
   "metadata": {},
   "source": [
    "About the difference of two proportions.\n",
    "- A survey company asked 100 males and 100 female if they married or not.\n",
    "- 62 male and 29 female responded that they are married.\n",
    "- Compute the 90% confidence interval of the difference of the two proportions"
   ]
  },
  {
   "cell_type": "code",
   "execution_count": 168,
   "id": "72240166-a773-4e3f-a3d9-32322d04dbd3",
   "metadata": {},
   "outputs": [
    {
     "name": "stdout",
     "output_type": "stream",
     "text": [
      "비율 점 추정량 : 0.33\n",
      "모비율 90% 신뢰구간 : 0.2207 ~ 0.4393\n"
     ]
    }
   ],
   "source": [
    "n1 = 100\n",
    "n2 = 100\n",
    "phat1 = 62/100\n",
    "phat2 = 29/100\n",
    "\n",
    "alpha=0.1\n",
    "\n",
    "l1 = phat1 - phat2 - norm.ppf(1-alpha/2)*np.sqrt(phat1*(1-phat1)/n1 + phat2*(1-phat2)/n2)\n",
    "u1 = phat1 - phat2 + norm.ppf(1-alpha/2)*np.sqrt(phat1*(1-phat1)/n1 + phat2*(1-phat2)/n2)\n",
    "\n",
    "\n",
    "print(f\"비율 점 추정량 : {np.round(phat1-phat2,4)}\")\n",
    "print(f\"모비율 90% 신뢰구간 : {np.round(l1,4)} ~ {np.round(u1,4)}\")\n"
   ]
  },
  {
   "cell_type": "code",
   "execution_count": null,
   "id": "2e231c27-6eb0-4981-b432-7eade2be0edc",
   "metadata": {},
   "outputs": [],
   "source": []
  }
 ],
 "metadata": {
  "kernelspec": {
   "display_name": "Python [conda env:base] *",
   "language": "python",
   "name": "conda-base-py"
  },
  "language_info": {
   "codemirror_mode": {
    "name": "ipython",
    "version": 3
   },
   "file_extension": ".py",
   "mimetype": "text/x-python",
   "name": "python",
   "nbconvert_exporter": "python",
   "pygments_lexer": "ipython3",
   "version": "3.12.7"
  }
 },
 "nbformat": 4,
 "nbformat_minor": 5
}

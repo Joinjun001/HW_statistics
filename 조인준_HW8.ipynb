{
 "cells": [
  {
   "cell_type": "markdown",
   "id": "d7cd4c90-42c7-40aa-a76e-b987502a2ec9",
   "metadata": {},
   "source": [
    "강의 자료 마지막 페이지에 있는 흡연과 폐암이 서로 연관성이 있는 지를 유의 수준 5%에서 검정하시오.\n",
    "\n",
    "파이썬을 통해 그 검정 결과를 출력하고, 나타난 결과를 문장으로 설명하시오."
   ]
  },
  {
   "cell_type": "code",
   "execution_count": 1,
   "id": "89bb044b-1ff6-4937-9695-3f360483986a",
   "metadata": {},
   "outputs": [
    {
     "name": "stdout",
     "output_type": "stream",
     "text": [
      "Chi-square statistic: 98.6528\n",
      "Degrees of freedom: 1\n",
      "p-value: 0.0\n",
      "\n",
      "Expected frequencies:\n",
      " [[73.5 76.5]\n",
      " [73.5 76.5]]\n"
     ]
    }
   ],
   "source": [
    "import numpy as np\n",
    "from scipy.stats import chi2_contingency\n",
    "\n",
    "# 관측도수 \n",
    "observed = np.array([\n",
    "    [117, 33],   \n",
    "    [30, 120]    \n",
    "])\n",
    "\n",
    "# 카이제곱 검정\n",
    "chi2, p, dof, expected = chi2_contingency(observed)\n",
    "\n",
    "# 출력\n",
    "print(\"Chi-square statistic:\", round(chi2, 4))\n",
    "print(\"Degrees of freedom:\", dof)\n",
    "print(\"p-value:\", round(p, 4))\n",
    "print(\"\\nExpected frequencies:\\n\", np.round(expected, 2))"
   ]
  },
  {
   "cell_type": "code",
   "execution_count": 3,
   "id": "9221a6c3-8fe8-4fc4-88d7-daee2c9a14d0",
   "metadata": {},
   "outputs": [
    {
     "name": "stdout",
     "output_type": "stream",
     "text": [
      "유의수준 5%에서 카이제곱 독립성 검정을 수행한 결과, p-value는 0.0으로 귀무가설을 기각하였다.\n",
      "따라서 흡연 여부와 폐암 발생 간에는 통계적으로 유의한 관련성이 있는 것으로 나타났다.\n"
     ]
    }
   ],
   "source": [
    "print(f\"유의수준 5%에서 카이제곱 독립성 검정을 수행한 결과, p-value는 {round(p,4)}으로 귀무가설을 기각하였다.\")\n",
    "print(\"따라서 흡연 여부와 폐암 발생 간에는 통계적으로 유의한 관련성이 있는 것으로 나타났다.\")"
   ]
  },
  {
   "cell_type": "code",
   "execution_count": null,
   "id": "0d378d9e-b572-428c-a4cf-a8ca4b1c3346",
   "metadata": {},
   "outputs": [],
   "source": []
  },
  {
   "cell_type": "code",
   "execution_count": null,
   "id": "95bd3db6-941d-464e-91b5-883c7c30e25b",
   "metadata": {},
   "outputs": [],
   "source": []
  }
 ],
 "metadata": {
  "kernelspec": {
   "display_name": "Python 3 (ipykernel)",
   "language": "python",
   "name": "python3"
  },
  "language_info": {
   "codemirror_mode": {
    "name": "ipython",
    "version": 3
   },
   "file_extension": ".py",
   "mimetype": "text/x-python",
   "name": "python",
   "nbconvert_exporter": "python",
   "pygments_lexer": "ipython3",
   "version": "3.13.5"
  }
 },
 "nbformat": 4,
 "nbformat_minor": 5
}

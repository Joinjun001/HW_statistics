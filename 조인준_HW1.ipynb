{
 "cells": [
  {
   "cell_type": "code",
   "execution_count": 2,
   "id": "367c5f5a-1198-4c17-91ee-4111eaeff13d",
   "metadata": {},
   "outputs": [],
   "source": [
    "# 도수분포표, 파레토 그래프를 그리는 과제 HW1"
   ]
  },
  {
   "cell_type": "code",
   "execution_count": 4,
   "id": "053188fe-2324-4c5b-ad34-2a68386fce1a",
   "metadata": {},
   "outputs": [
    {
     "name": "stdout",
     "output_type": "stream",
     "text": [
      "80\n"
     ]
    }
   ],
   "source": [
    "import numpy as np\n",
    "import pandas as pd \n",
    "import matplotlib.pyplot as plt\n",
    "\n",
    "import platform\n",
    "\n",
    "# OS 판별\n",
    "system_name = platform.system()\n",
    "\n",
    "# 한글 폰트 설정\n",
    "if system_name == 'Darwin':  # macOS\n",
    "    plt.rcParams['font.family'] = 'AppleGothic'\n",
    "elif system_name == 'Windows':\n",
    "    plt.rcParams['font.family'] = 'Malgun Gothic'\n",
    "else:\n",
    "    # Linux 등 기타 OS는 여기서 지정\n",
    "    plt.rcParams['font.family'] = 'NanumGothic'  # 설치되어 있어야 함\n",
    "\n",
    "# 음수 부호 깨짐 방지\n",
    "plt.rcParams['axes.unicode_minus'] = False\n",
    "\n",
    "# 표본 데이터, 근데 혹시 파이썬에서 import할수 있는 데이터인가요? 일일이 16페이지 보고 쳤습니다 ㅠㅠ)\n",
    "can_data = np.array([\n",
    "    101.8, 101.5, 102.6, 101, 101.8, 96.8, 102.4, 100,\n",
    "    98.8, 98.1, 98.8, 98, 99.4, 95.5, 100.1, 100.5, 97.4, 100.2,\n",
    "    101.4, 98.7, 101.4, 99.4, 101.7, 99, 99.7, 98.8, 99.5, 100,\n",
    "    99.7, 100.9, 99.7, 99, 98.8, 99.7, 100.9, 99.9, 97.5,\n",
    "    101.5, 98.2, 99.2, 98.6, 101.4, 102.1, 102.9, 100.8,\n",
    "    99.4, 103.7, 100.3, 100.2, 101.1, 101.8, 100, 101.2,\n",
    "    100.5, 101.2, 101.6, 99.9, 100.5, 100.4, 98.1, 100.1,\n",
    "    101.6, 99.3, 96.1, 100, 99.7, 99.7, 99.4, 101.5, 100.9,\n",
    "    101.2, 99.9, 99.1, 100.7, 100.8, 100.8, 101.4, 100.3, 98.4, 97.2\n",
    "])\n",
    "\n",
    "print(len(can_data))"
   ]
  },
  {
   "cell_type": "code",
   "execution_count": 5,
   "id": "dac97836-fad5-44c9-a6d4-c6fa61f0e723",
   "metadata": {},
   "outputs": [
    {
     "name": "stdout",
     "output_type": "stream",
     "text": [
      "95.5 103.7\n"
     ]
    }
   ],
   "source": [
    "bins = 5 # 계급 구간 개수 \n",
    "\n",
    "can_data = np.sort(can_data) # 오름차순으로 정렬\n",
    "\n",
    "min_data = can_data[0] # 최솟값\n",
    "max_data = can_data[-1] # 최댓값\n",
    "\n",
    "print(min_data, max_data)"
   ]
  },
  {
   "cell_type": "code",
   "execution_count": 6,
   "id": "18725661-d67a-4614-a4c5-13b0978acf95",
   "metadata": {},
   "outputs": [
    {
     "name": "stdout",
     "output_type": "stream",
     "text": [
      "1.84\n"
     ]
    }
   ],
   "source": [
    "L1 = min_data - 0.5\n",
    "Uk = max_data + 0.5 \n",
    "\n",
    "\n",
    "deter = round((Uk - L1) / bins, 2) # 계급 구간의 간격, 소수점 2자리까지만 표시\n",
    "print(deter)"
   ]
  },
  {
   "cell_type": "code",
   "execution_count": 7,
   "id": "00a8e996-9bf3-49d9-9b0d-e99130780f1a",
   "metadata": {},
   "outputs": [
    {
     "name": "stdout",
     "output_type": "stream",
     "text": [
      "[np.float64(95.0), np.float64(96.84), np.float64(98.68), np.float64(100.52), np.float64(102.36), np.float64(104.2)]\n"
     ]
    }
   ],
   "source": [
    "bins_list = [round(L1 + i * deter, 2) for i in range(bins + 1)] # 계급 경계 생성 \n",
    "print(bins_list)\n",
    " \n"
   ]
  },
  {
   "cell_type": "code",
   "execution_count": 8,
   "id": "6ac6ae2c-1b1b-4c50-8a94-818626bb84b8",
   "metadata": {},
   "outputs": [
    {
     "name": "stdout",
     "output_type": "stream",
     "text": [
      "['95.0 ~ 96.84', '96.84 ~ 98.68', '98.68 ~ 100.52', '100.52 ~ 102.36', '102.36 ~ 104.2']\n"
     ]
    }
   ],
   "source": [
    "freq, bin_edges = np.histogram(can_data, bins=bins_list) # 빈도, 계급 경계\n",
    "\n",
    "intervals = [f\"{round(bin_edges[i],2)} ~ {round(bin_edges[i+1],2)}\" for i in range(len(bin_edges)-1)] # 계급 구간 head 생성\n",
    "print(intervals)"
   ]
  },
  {
   "cell_type": "code",
   "execution_count": 9,
   "id": "d384b55f-c42e-47ea-86b8-417ceedb0bc3",
   "metadata": {},
   "outputs": [
    {
     "name": "stdout",
     "output_type": "stream",
     "text": [
      "[0.0375 0.1125 0.475  0.325  0.05  ]\n"
     ]
    }
   ],
   "source": [
    "# 상대도수 계산\n",
    "rel_freq = np.round(freq / np.sum(freq), 4)\n",
    "\n",
    "print(rel_freq)"
   ]
  },
  {
   "cell_type": "code",
   "execution_count": 10,
   "id": "d2f51c32-1399-4a59-be1a-3e02062831f3",
   "metadata": {},
   "outputs": [
    {
     "data": {
      "text/html": [
       "<div>\n",
       "<style scoped>\n",
       "    .dataframe tbody tr th:only-of-type {\n",
       "        vertical-align: middle;\n",
       "    }\n",
       "\n",
       "    .dataframe tbody tr th {\n",
       "        vertical-align: top;\n",
       "    }\n",
       "\n",
       "    .dataframe thead th {\n",
       "        text-align: right;\n",
       "    }\n",
       "</style>\n",
       "<table border=\"1\" class=\"dataframe\">\n",
       "  <thead>\n",
       "    <tr style=\"text-align: right;\">\n",
       "      <th></th>\n",
       "      <th>계급</th>\n",
       "      <th>계급구간</th>\n",
       "      <th>도수</th>\n",
       "      <th>상대도수</th>\n",
       "    </tr>\n",
       "  </thead>\n",
       "  <tbody>\n",
       "    <tr>\n",
       "      <th>0</th>\n",
       "      <td>0</td>\n",
       "      <td>95.0 ~ 96.84</td>\n",
       "      <td>3</td>\n",
       "      <td>0.0375</td>\n",
       "    </tr>\n",
       "    <tr>\n",
       "      <th>1</th>\n",
       "      <td>1</td>\n",
       "      <td>96.84 ~ 98.68</td>\n",
       "      <td>9</td>\n",
       "      <td>0.1125</td>\n",
       "    </tr>\n",
       "    <tr>\n",
       "      <th>2</th>\n",
       "      <td>2</td>\n",
       "      <td>98.68 ~ 100.52</td>\n",
       "      <td>38</td>\n",
       "      <td>0.4750</td>\n",
       "    </tr>\n",
       "    <tr>\n",
       "      <th>3</th>\n",
       "      <td>3</td>\n",
       "      <td>100.52 ~ 102.36</td>\n",
       "      <td>26</td>\n",
       "      <td>0.3250</td>\n",
       "    </tr>\n",
       "    <tr>\n",
       "      <th>4</th>\n",
       "      <td>4</td>\n",
       "      <td>102.36 ~ 104.2</td>\n",
       "      <td>4</td>\n",
       "      <td>0.0500</td>\n",
       "    </tr>\n",
       "    <tr>\n",
       "      <th>0</th>\n",
       "      <td>Total</td>\n",
       "      <td>95.0  ~  104.2</td>\n",
       "      <td>80</td>\n",
       "      <td>1.0000</td>\n",
       "    </tr>\n",
       "  </tbody>\n",
       "</table>\n",
       "</div>"
      ],
      "text/plain": [
       "      계급             계급구간  도수    상대도수\n",
       "0      0     95.0 ~ 96.84   3  0.0375\n",
       "1      1    96.84 ~ 98.68   9  0.1125\n",
       "2      2   98.68 ~ 100.52  38  0.4750\n",
       "3      3  100.52 ~ 102.36  26  0.3250\n",
       "4      4   102.36 ~ 104.2   4  0.0500\n",
       "0  Total   95.0  ~  104.2  80  1.0000"
      ]
     },
     "execution_count": 10,
     "metadata": {},
     "output_type": "execute_result"
    }
   ],
   "source": [
    "# 도수분포표 생성\n",
    "df = pd.DataFrame({\n",
    "    '계급': [i for i in range(len(freq))],\n",
    "    '계급구간': intervals,\n",
    "    '도수': freq,\n",
    "    '상대도수': rel_freq\n",
    "})\n",
    "\n",
    "# 합계 행 추가\n",
    "total_row = pd.DataFrame({\n",
    "    '계급' : ['Total'],\n",
    "    '계급구간': [f'{L1}  ~  {Uk}'],\n",
    "    '도수': [df['도수'].sum()],\n",
    "    '상대도수': [round(df['상대도수'].sum(), 4)]  \n",
    "}, index=None)\n",
    "\n",
    "\n",
    "df = pd.concat([df, total_row])\n",
    "\n",
    "df"
   ]
  },
  {
   "cell_type": "code",
   "execution_count": 11,
   "id": "ddfc4365-c377-46b8-bd78-afc297fb9982",
   "metadata": {},
   "outputs": [],
   "source": [
    "df_plot = df.iloc[:-1]\n",
    "\n",
    "\n",
    "df_plot = df_plot.sort_values(by='도수', ascending=False)\n",
    "\n",
    "\n",
    "df_plot['누적상대도수'] = df_plot['상대도수'].cumsum()\n",
    "\n"
   ]
  },
  {
   "cell_type": "code",
   "execution_count": 12,
   "id": "a0bc638a-8a92-47f0-98e7-7d5226beca2e",
   "metadata": {},
   "outputs": [
    {
     "data": {
      "image/png": "[encoded data removed]",
      "text/plain": [
       "<Figure size 1000x600 with 2 Axes>"
      ]
     },
     "metadata": {},
     "output_type": "display_data"
    }
   ],
   "source": [
    "# x축: 계급구간\n",
    "x = range(len(df_plot))\n",
    "labels = df_plot['계급구간']\n",
    "\n",
    "fig, ax1 = plt.subplots(figsize=(10, 6))\n",
    "\n",
    "# 막대그래프: 도수\n",
    "ax1.bar(x, df_plot['도수'], color='skyblue')\n",
    "ax1.set_ylabel('도수', color='black')\n",
    "ax1.tick_params(axis='y', labelcolor='black')\n",
    "ax1.set_xticks(x)\n",
    "ax1.set_xticklabels(labels, rotation=45)\n",
    "\n",
    "# 선그래프: 누적 상대도수\n",
    "ax2 = ax1.twinx()\n",
    "ax2.plot(x, df_plot['누적상대도수'], color='black', marker='o')\n",
    "ax2.set_ylabel('누적 상대도수', color='black')\n",
    "ax2.tick_params(axis='y', labelcolor='black')\n",
    "\n",
    "plt.title('Pareto 그래프: 도수 + 누적 상대도수')\n",
    "plt.grid(True)\n",
    "plt.tight_layout()\n",
    "plt.show()"
   ]
  },
  {
   "cell_type": "code",
   "execution_count": null,
   "id": "2d8c0866",
   "metadata": {},
   "outputs": [],
   "source": []
  }
 ],
 "metadata": {
  "kernelspec": {
   "display_name": "Python [conda env:base] *",
   "language": "python",
   "name": "conda-base-py"
  },
  "language_info": {
   "codemirror_mode": {
    "name": "ipython",
    "version": 3
   },
   "file_extension": ".py",
   "mimetype": "text/x-python",
   "name": "python",
   "nbconvert_exporter": "python",
   "pygments_lexer": "ipython3",
   "version": "3.12.7"
  }
 },
 "nbformat": 4,
 "nbformat_minor": 5
}
